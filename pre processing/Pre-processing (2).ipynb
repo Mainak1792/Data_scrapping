{
 "cells": [
  {
   "cell_type": "markdown",
   "metadata": {},
   "source": [
    "Import Required Packages:"
   ]
  },
  {
   "cell_type": "code",
   "execution_count": null,
   "metadata": {},
   "outputs": [],
   "source": [
    "import os\n",
    "import cv2\n",
    "from tqdm import tqdm\n",
    "import time\n",
    "import math\n",
    "import shutil"
   ]
  },
  {
   "cell_type": "markdown",
   "metadata": {},
   "source": [
    "Load Downloaded Videos:"
   ]
  },
  {
   "cell_type": "code",
   "execution_count": null,
   "metadata": {},
   "outputs": [],
   "source": [
    "video_dir=\"C:/Users/Administrator/Documents/Data\"                        # Give your Path\n",
    "path_to_videos=[]\n",
    "for folder in tqdm(os.listdir(video_dir),desc='Loading all videos: '):\n",
    "    for video in os.listdir(os.path.join(video_dir,folder)):\n",
    "        path_to_videos.append(os.path.join(video_dir,folder,video))\n",
    "\n",
    "path_to_videos=sorted(path_to_videos)\n",
    "print('[Info] Total number of videos: '+str(len(path_to_videos))"
   ]
  },
  {
   "cell_type": "markdown",
   "metadata": {},
   "source": [
    "Calculate Total Running time of videos (Calculate Total Seconds):"
   ]
  },
  {
   "cell_type": "code",
   "execution_count": null,
   "metadata": {},
   "outputs": [],
   "source": [
    "seconds=0\n",
    "for i in tqdm(range(len(path_to_videos)),decs='Calculating Runtime: '):\n",
    "    try:\n",
    "        cap = cv2.VideoCapture(path_to_videos[i])\n",
    "        fps = math.ceil(cap.get(cv2.CAP_PROP_FPS))\n",
    "        frames = cap.get(cv2.CAP_PROP_FRAME_COUNT)\n",
    "        seconds+=math.ceil(frames/fps)\n",
    "        \n",
    "    except:\n",
    "        print(\"failed to load\",path_to_videos[i])\n",
    "\n",
    "digits=len(str(seconds))\n",
    "print(f'[Info] Total Running time is {seconds} seconds')"
   ]
  },
  {
   "cell_type": "markdown",
   "metadata": {},
   "source": [
    "Convert Video to Frames:"
   ]
  },
  {
   "cell_type": "code",
   "execution_count": null,
   "metadata": {},
   "outputs": [],
   "source": [
    "frame_dir=os.path.join(os.path.dirname(video_dir),video_dir.split('/')[-1]+'_frames')\n",
    "if not os.path.exists(frame_dir):\n",
    "    os.makedirs(frame_dir)\n",
    "    \n",
    "dataset_name='Data_set'                     # Change dataset Name \n",
    "frame_rate=2                               # save 2 frame every 1 sec \n",
    "\n",
    "frame_number=0\n",
    "for i in tqdm(range(len(path_to_videos)), desc='Extracting Frames: '):\n",
    "    try: \n",
    "        cap = cv2.VideoCapture(path_to_videos[i])\n",
    "        frame_width = int(cap.get(3))\n",
    "        frame_height = int(cap.get(4))\n",
    "        count = 0\n",
    "        fps = math.ceil(cap.get(cv2.CAP_PROP_FPS)*frame_rate)\n",
    "        ret=True\n",
    "        while ret:\n",
    "            ret, frame = cap.read()\n",
    "            if ret:\n",
    "                if count % fps  == 0:\n",
    "                    frame_number+=1\n",
    "                    uniq_number=f\"%0{digits}d\"%frame_number\n",
    "                    time_stamp=str(time.time()).replace(\".\",\"\")   \n",
    "                    output_file=frame_dir + f\"/{time_stamp}_{dataset_name}_{uniq_number}.jpg\"\n",
    "                    cv2.imwrite(output_file, frame)\n",
    "            else:\n",
    "                cap.release()\n",
    "            count = count + 1\n",
    "    except:\n",
    "        print(\"failed to load\",path_to_videos[i])\n",
    "\n",
    "print(f'[Info] Total number of frames extracted: {len(os.listdir(frame_dir))}')"
   ]
  },
  {
   "cell_type": "markdown",
   "metadata": {},
   "source": [
    "Make Batches (2000 per batch is preferred):"
   ]
  },
  {
   "cell_type": "code",
   "execution_count": null,
   "metadata": {},
   "outputs": [],
   "source": [
    "def create_batch(folder_loc,batch_size=2000):\n",
    "    all_file_path=[os.path.join(folder_loc,filename) for filename in os.listdir(folder_loc)]\n",
    "    for i in tqdm(range(len(all_file_path)), desc='Creating Batches: '):\n",
    "        if i%batch_size==0:\n",
    "            batch_number=i//batch_size +1\n",
    "            new_folder=folder_loc+f\"/{dataset_name}-{batch_number}\" \n",
    "            os.mkdir(new_folder)\n",
    "        shutil.move(all_file_path[i],new_folder)\n",
    "    print(\"[Info] Total number of batches created: {len(os.listdir(folder_loc))}\")\n",
    "\n",
    "create_batch(frame_dir,2000)"
   ]
  },
  {
   "cell_type": "markdown",
   "metadata": {},
   "source": [
    "Zipping Subfolders:"
   ]
  },
  {
   "cell_type": "code",
   "execution_count": null,
   "metadata": {},
   "outputs": [],
   "source": [
    "def zip_folders(img_batch_dir):\n",
    "    zip_dir=os.path.join(os.path.dirname(img_batch_dir),'zipped_batches')\n",
    "    for folder in tqdm(os.listdir(img_batch_dir), desc='Zipping Batches: '):\n",
    "        folder_name=os.path.join(img_batch_dir,folder)\n",
    "        output_path=os.path.join(zip_dir,folder)\n",
    "        shutil.make_archive(output_path, 'zip', folder_name)\n",
    "    return \"[Info] Batch Folders zipped and stored in: \"+zip_dir\n",
    "\n",
    "zip_folders(frame_dir)"
   ]
  }
 ],
 "metadata": {
  "kernelspec": {
   "display_name": "Python 3",
   "language": "python",
   "name": "python3"
  },
  "language_info": {
   "codemirror_mode": {
    "name": "ipython",
    "version": 3
   },
   "file_extension": ".py",
   "mimetype": "text/x-python",
   "name": "python",
   "nbconvert_exporter": "python",
   "pygments_lexer": "ipython3",
   "version": "3.9.2"
  }
 },
 "nbformat": 4,
 "nbformat_minor": 4
}
